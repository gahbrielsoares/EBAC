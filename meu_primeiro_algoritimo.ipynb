{
  "nbformat": 4,
  "nbformat_minor": 0,
  "metadata": {
    "colab": {
      "provenance": []
    },
    "kernelspec": {
      "name": "python3",
      "display_name": "Python 3"
    },
    "language_info": {
      "name": "python"
    }
  },
  "cells": [
    {
      "cell_type": "code",
      "source": [
        "\n",
        "def calcular(num1, num2, operacao):\n",
        "\n",
        "  if operacao == '+':\n",
        "    return num1 + num2\n",
        "  elif operacao == '-':\n",
        "    return num1 - num2\n",
        "  elif operacao == '*':\n",
        "    return num1 * num2\n",
        "  elif operacao == '/':\n",
        "    if num2 != 0:\n",
        "        return num1 / num2\n",
        "\n",
        "num1 = float(input(\"Digite o primeiro número: \"))\n",
        "num2 = float(input(\"Digite o segundo número: \"))\n",
        "operacao = input(\"Digite a operação: (+ para somar, - para subtrair, * para multiplicar, / para dividir): \")\n",
        "\n",
        "resultado = calcular(num1, num2, operacao)\n",
        "print(\"Resultado:\", resultado)"
      ],
      "metadata": {
        "colab": {
          "base_uri": "https://localhost:8080/"
        },
        "id": "_8BAhvapG2uD",
        "outputId": "0c8016d4-3c27-4d73-a8d5-98905905cf56"
      },
      "execution_count": 14,
      "outputs": [
        {
          "output_type": "stream",
          "name": "stdout",
          "text": [
            "Digite o primeiro número: 10\n",
            "Digite o segundo número: 10\n",
            "Digite a operação:2 (+ para somar, - para subtrair, * para multiplicar, / para dividir): *\n",
            "Resultado: 100.0\n"
          ]
        }
      ]
    }
  ]
}